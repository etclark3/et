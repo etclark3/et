{
  "cells": [
    {
      "cell_type": "markdown",
      "metadata": {
        "id": "view-in-github",
        "colab_type": "text"
      },
      "source": [
        "<a href=\"https://colab.research.google.com/github/etclark3/et/blob/main/Python_Assessment_Review.ipynb\" target=\"_parent\"><img src=\"https://colab.research.google.com/assets/colab-badge.svg\" alt=\"Open In Colab\"/></a>"
      ]
    },
    {
      "cell_type": "markdown",
      "id": "314f3d01-08ab-4c6b-b0be-7e1f380d03f6",
      "metadata": {
        "id": "314f3d01-08ab-4c6b-b0be-7e1f380d03f6"
      },
      "source": [
        "## Python + Pandas Assessment Review"
      ]
    },
    {
      "cell_type": "markdown",
      "id": "127e90e2-4b5f-42d2-a9cc-8dcdfef3f74b",
      "metadata": {
        "id": "127e90e2-4b5f-42d2-a9cc-8dcdfef3f74b"
      },
      "source": [
        "#### We will be working with the following information defined in the cell below."
      ]
    },
    {
      "cell_type": "code",
      "execution_count": null,
      "id": "3496f5db-06e9-47e6-b3b3-414f4ede5838",
      "metadata": {
        "id": "3496f5db-06e9-47e6-b3b3-414f4ede5838"
      },
      "outputs": [],
      "source": [
        "students = [\n",
        "    {'exam_score': 67.5743737055, 'hours_studied': 8.4786921255, 'used_flashcards': True,  'handedness': 'left',  'coffee_consumed': 4,  'hours_slept': 7},\n",
        "    {'exam_score': 59.0983982874, 'hours_studied': 5.7737531404, 'used_flashcards': True,  'handedness': 'right', 'coffee_consumed': 5,  'hours_slept': 6},\n",
        "    {'exam_score': 40.2353236205, 'hours_studied': 4.2802273056, 'used_flashcards': True,  'handedness': 'left',  'coffee_consumed': 6,  'hours_slept': 5},\n",
        "    {'exam_score': 68.5728466901, 'hours_studied': 8.2049689336, 'used_flashcards': False, 'handedness': 'right', 'coffee_consumed': 4,  'hours_slept': 7},\n",
        "    {'exam_score': 78.8909132563, 'hours_studied': 8.8873825943, 'used_flashcards': False, 'handedness': 'right', 'coffee_consumed': 3,  'hours_slept': 8},\n",
        "    {'exam_score': 99.6285927929, 'hours_studied': 5.8875768158, 'used_flashcards': True,  'handedness': 'left',  'coffee_consumed': 1,  'hours_slept': 10},\n",
        "    {'exam_score': 71.5376019923, 'hours_studied': 8.6755289037, 'used_flashcards': True,  'handedness': 'right', 'coffee_consumed': 3,  'hours_slept': 8},\n",
        "    {'exam_score': 91.209319196,  'hours_studied': 7.7949349686, 'used_flashcards': True,  'handedness': 'left',  'coffee_consumed': 1,  'hours_slept': 10},\n",
        "    {'exam_score': 95.637085652,  'hours_studied': 9.6774379788, 'used_flashcards': False, 'handedness': 'left',  'coffee_consumed': 1,  'hours_slept': 10},\n",
        "    {'exam_score': 7.3505796632,  'hours_studied': 1.8010865962, 'used_flashcards': True,  'handedness': 'right', 'coffee_consumed': 10, 'hours_slept': 1},\n",
        "    {'exam_score': 100.0,         'hours_studied': 9.1262910299, 'used_flashcards': False, 'handedness': 'left',  'coffee_consumed': 0,  'hours_slept': 11},\n",
        "    {'exam_score': 73.1646225026, 'hours_studied': 5.8875512702, 'used_flashcards': True,  'handedness': 'right', 'coffee_consumed': 3,  'hours_slept': 8},\n",
        "    {'exam_score': 1.697188914,   'hours_studied': 0.8023294541, 'used_flashcards': False, 'handedness': 'right', 'coffee_consumed': 10, 'hours_slept': 1},\n",
        "    {'exam_score': 48.3173646693, 'hours_studied': 3.6138789305, 'used_flashcards': False, 'handedness': 'left',  'coffee_consumed': 6,  'hours_slept': 5},\n",
        "    {'exam_score': 57.0423484485, 'hours_studied': 5.9414471409, 'used_flashcards': True,  'handedness': 'right', 'coffee_consumed': 5,  'hours_slept': 6},\n",
        "    {'exam_score': 65.7118765165, 'hours_studied': 4.6605301,    'used_flashcards': False, 'handedness': 'right', 'coffee_consumed': 4,  'hours_slept': 7},\n",
        "    {'exam_score': 63.934268264,  'hours_studied': 6.4878477492, 'used_flashcards': True,  'handedness': 'right', 'coffee_consumed': 4,  'hours_slept': 7},\n",
        "    {'exam_score': 100.0,         'hours_studied': 8.1237310876, 'used_flashcards': False, 'handedness': 'right', 'coffee_consumed': 0,  'hours_slept': 11},\n",
        "    {'exam_score': 35.7436570401, 'hours_studied': 3.1974628076, 'used_flashcards': False, 'handedness': 'right', 'coffee_consumed': 7,  'hours_slept': 4},\n",
        "    {'exam_score': 53.2002957528, 'hours_studied': 4.5502066553, 'used_flashcards': True,  'handedness': 'right', 'coffee_consumed': 5,  'hours_slept': 6}\n",
        "]"
      ]
    },
    {
      "cell_type": "markdown",
      "id": "396565be-5b9a-4404-a9f7-4714a9f384c8",
      "metadata": {
        "id": "396565be-5b9a-4404-a9f7-4714a9f384c8"
      },
      "source": [
        "# Phase 1: Python *without* Pandas.  Do the following without Pandas."
      ]
    },
    {
      "cell_type": "markdown",
      "id": "982780cb-6f15-4dbb-884c-2c902d13c10d",
      "metadata": {
        "id": "982780cb-6f15-4dbb-884c-2c902d13c10d"
      },
      "source": [
        "#### 1. Examine students.\n",
        " -  What data type is students? Use Python to verify.\n",
        " -  Describe the contents of the variable students.  How do you know this? Do you feel this is a useful data format? Why or Why Not?"
      ]
    },
    {
      "cell_type": "code",
      "execution_count": null,
      "id": "83d7bfbf-34a7-4a69-9c07-bd91f00db745",
      "metadata": {
        "id": "83d7bfbf-34a7-4a69-9c07-bd91f00db745"
      },
      "outputs": [],
      "source": [
        "# Write your response here:\n",
        "'''\n",
        "\n",
        "'''"
      ]
    },
    {
      "cell_type": "markdown",
      "id": "23c51c96-1b4b-47da-a20d-dddcbd243793",
      "metadata": {
        "id": "23c51c96-1b4b-47da-a20d-dddcbd243793"
      },
      "source": [
        "-  Write a function called `get_max_hours_studied` that takes in a list of dictionaries like students and returns the value of the maximum hours studied within the data set"
      ]
    },
    {
      "cell_type": "code",
      "execution_count": null,
      "id": "d38cd9a2-12dc-41e8-9ee7-565fc2b1d3a5",
      "metadata": {
        "id": "d38cd9a2-12dc-41e8-9ee7-565fc2b1d3a5"
      },
      "outputs": [],
      "source": [
        "# write your function in this cell.\n"
      ]
    },
    {
      "cell_type": "code",
      "execution_count": null,
      "id": "7090875e-c72c-4c67-bbf3-ab1db309a6b8",
      "metadata": {
        "id": "7090875e-c72c-4c67-bbf3-ab1db309a6b8"
      },
      "outputs": [],
      "source": [
        "assert(round(get_max_hours_studied(students), 2) == 9.68)"
      ]
    },
    {
      "cell_type": "markdown",
      "id": "3a60eb87-8284-46aa-88c7-6f48c7e17c62",
      "metadata": {
        "id": "3a60eb87-8284-46aa-88c7-6f48c7e17c62"
      },
      "source": [
        "#### Observe the variable student_names defined below.\n",
        " - Write a loop that will traverse students and add a key called 'student_name' to the record, populated with each of the values inside of student names by index order."
      ]
    },
    {
      "cell_type": "code",
      "execution_count": null,
      "id": "0950e2c3-21ba-44ff-b99d-e8326f0ae4ab",
      "metadata": {
        "id": "0950e2c3-21ba-44ff-b99d-e8326f0ae4ab"
      },
      "outputs": [],
      "source": [
        "student_names = [\n",
        "    'Jill', \n",
        "    'Mindy',\n",
        "    'Kathy', \n",
        "    'Hussain', \n",
        "    'Priya', \n",
        "    'Jasmine', \n",
        "    'Abdul', \n",
        "    'Ren',\n",
        "    'Lupita',\n",
        "    'Patch',\n",
        "    'Marwan',\n",
        "    'Stacy',\n",
        "    'Sylvia',\n",
        "    'Bo',\n",
        "    'Vivian',\n",
        "    'Connor',\n",
        "    'Hank',\n",
        "    'Rocko',\n",
        "    'Filbert',\n",
        "    'Upton'\n",
        "]"
      ]
    },
    {
      "cell_type": "code",
      "execution_count": null,
      "id": "f151916e-7d55-4d98-b058-cb57a2d66235",
      "metadata": {
        "id": "f151916e-7d55-4d98-b058-cb57a2d66235"
      },
      "outputs": [],
      "source": [
        "# Write your loop here:\n"
      ]
    },
    {
      "cell_type": "code",
      "execution_count": null,
      "id": "a58c42e7-ba68-409d-a237-f47db8a16c7a",
      "metadata": {
        "id": "a58c42e7-ba68-409d-a237-f47db8a16c7a"
      },
      "outputs": [],
      "source": [
        "assert([student['student_name'] for student in students] == student_names)"
      ]
    },
    {
      "cell_type": "markdown",
      "id": "550b0613-c21e-4424-a5ae-682e1c788a7c",
      "metadata": {
        "id": "550b0613-c21e-4424-a5ae-682e1c788a7c"
      },
      "source": [
        " - Write a function called `well_read` that will take in a list of dictionaries as an argument and return the name of the student who has studied the most."
      ]
    },
    {
      "cell_type": "code",
      "execution_count": null,
      "id": "f79f5470-a4df-4102-a2d9-29484baca0ed",
      "metadata": {
        "id": "f79f5470-a4df-4102-a2d9-29484baca0ed"
      },
      "outputs": [],
      "source": [
        "# write your function in this cell:\n"
      ]
    },
    {
      "cell_type": "code",
      "execution_count": null,
      "id": "c0962d71-1ee3-4260-bae8-d9bd5e3cf3c1",
      "metadata": {
        "id": "c0962d71-1ee3-4260-bae8-d9bd5e3cf3c1"
      },
      "outputs": [],
      "source": [
        "# Extra fancy bonus:\n",
        "# re-write well_read as a one-liner using list comprehension\n"
      ]
    },
    {
      "cell_type": "code",
      "execution_count": null,
      "id": "caa41c0a-cd28-477b-b871-4c4261007cd3",
      "metadata": {
        "id": "caa41c0a-cd28-477b-b871-4c4261007cd3"
      },
      "outputs": [],
      "source": [
        "assert(well_read(students) == 'Lupita')"
      ]
    },
    {
      "cell_type": "markdown",
      "id": "423cb67a-488f-4a59-96fc-90b16b4dacdb",
      "metadata": {
        "id": "423cb67a-488f-4a59-96fc-90b16b4dacdb"
      },
      "source": [
        " - What proportion of students that passed used flashcards? Store it as a percentage with one decimal place in a variable called `flash_success`\n"
      ]
    },
    {
      "cell_type": "code",
      "execution_count": null,
      "id": "8e80bd2c-7afb-4b7c-8c96-6638af5cd2c4",
      "metadata": {
        "id": "8e80bd2c-7afb-4b7c-8c96-6638af5cd2c4"
      },
      "outputs": [],
      "source": [
        "# assign flash_success in this cell.\n"
      ]
    },
    {
      "cell_type": "markdown",
      "id": "8c6f120a-0eea-45f9-ba56-4728886b4b42",
      "metadata": {
        "id": "8c6f120a-0eea-45f9-ba56-4728886b4b42"
      },
      "source": [
        "assert(flash_success == 50.00)"
      ]
    },
    {
      "cell_type": "markdown",
      "id": "7931edac-fb43-4c01-903e-94d439c29586",
      "metadata": {
        "id": "7931edac-fb43-4c01-903e-94d439c29586"
      },
      "source": [
        "#### Alright, time to break out pandas! 🐼"
      ]
    },
    {
      "cell_type": "markdown",
      "id": "4e3498b0-5b8c-49e5-ad11-8520be157023",
      "metadata": {
        "id": "4e3498b0-5b8c-49e5-ad11-8520be157023"
      },
      "source": [
        " - Create a dataframe called `student_df` from the students variable that you have at this point."
      ]
    },
    {
      "cell_type": "code",
      "execution_count": null,
      "id": "b32391e6-2ecc-480c-80a7-e6c792ee9866",
      "metadata": {
        "id": "b32391e6-2ecc-480c-80a7-e6c792ee9866"
      },
      "outputs": [],
      "source": [
        "# create your DataFrame here.\n",
        "student_df = pd.DataFrame(students)"
      ]
    },
    {
      "cell_type": "markdown",
      "id": "4d6d3af6-acc9-4b2c-904e-0ab09c845b87",
      "metadata": {
        "id": "4d6d3af6-acc9-4b2c-904e-0ab09c845b87"
      },
      "source": [
        " - Make a new column inside of `student_df` called `'classroom'` using the following code.  Keep your numpy random seed to 123."
      ]
    },
    {
      "cell_type": "code",
      "execution_count": null,
      "id": "3e18873e-5afe-4c86-8406-975d7ec35c51",
      "metadata": {
        "tags": [],
        "id": "3e18873e-5afe-4c86-8406-975d7ec35c51"
      },
      "outputs": [],
      "source": [
        "np.random.seed(123)\n",
        "classrooms = np.random.choice(['A', 'B'], len(student_df))"
      ]
    },
    {
      "cell_type": "code",
      "execution_count": null,
      "id": "a57dafa9-8c48-4533-be0b-35d64569a36a",
      "metadata": {
        "id": "a57dafa9-8c48-4533-be0b-35d64569a36a"
      },
      "outputs": [],
      "source": [
        "# put the value of classrooms into your new column in this cell.\n"
      ]
    },
    {
      "cell_type": "code",
      "execution_count": null,
      "id": "e8a72e8f-c425-4658-90f1-46b036a4aafd",
      "metadata": {
        "id": "e8a72e8f-c425-4658-90f1-46b036a4aafd"
      },
      "outputs": [],
      "source": [
        "assert(list(student_df.classroom.values) == list(classrooms))"
      ]
    },
    {
      "cell_type": "markdown",
      "id": "4e520be2-75b8-4fb3-9e55-b312fb60056c",
      "metadata": {
        "id": "4e520be2-75b8-4fb3-9e55-b312fb60056c"
      },
      "source": [
        " - Create a single groupby aggregation that will output the maximum and minimum exam scores and hours slept for every combination of classroom and handedness."
      ]
    },
    {
      "cell_type": "code",
      "execution_count": null,
      "id": "dc730fb3-4d05-4549-a4ff-6f4c0bb1c081",
      "metadata": {
        "id": "dc730fb3-4d05-4549-a4ff-6f4c0bb1c081"
      },
      "outputs": [],
      "source": [
        "# write your aggregation in this cell:\n"
      ]
    },
    {
      "cell_type": "markdown",
      "id": "812fe962-e67a-4820-8c2a-daad90d1ef07",
      "metadata": {
        "id": "812fe962-e67a-4820-8c2a-daad90d1ef07"
      },
      "source": [
        " - Write a function called `best_rested_performer` that takes in a DataFrame and returns the name of the student in student_df that has the highest grade, that slept the most.\n",
        " \n",
        "(hint: sort by exam score, then by hours slept, and make sure your function returns a string literal!)"
      ]
    },
    {
      "cell_type": "code",
      "execution_count": null,
      "id": "81e2b93a-5c67-4e04-a0a9-e4001587e1b4",
      "metadata": {
        "id": "81e2b93a-5c67-4e04-a0a9-e4001587e1b4"
      },
      "outputs": [],
      "source": [
        "# write your function in this cell:\n"
      ]
    },
    {
      "cell_type": "code",
      "execution_count": null,
      "id": "4afbe2ba-a23e-4f34-9909-415c482aa702",
      "metadata": {
        "id": "4afbe2ba-a23e-4f34-9909-415c482aa702"
      },
      "outputs": [],
      "source": [
        "assert(best_rested_performer(student_df)) == 'Marwan'"
      ]
    },
    {
      "cell_type": "markdown",
      "id": "063ace38-af61-48df-8e52-98c5c24e786a",
      "metadata": {
        "id": "063ace38-af61-48df-8e52-98c5c24e786a"
      },
      "source": [
        " - Utilize the following dictionary to create a new column called `'room_no'` that tells a student where they should be going."
      ]
    },
    {
      "cell_type": "code",
      "execution_count": null,
      "id": "3b5d38f7-847a-4b26-896d-ca9f901d1fef",
      "metadata": {
        "id": "3b5d38f7-847a-4b26-896d-ca9f901d1fef"
      },
      "outputs": [],
      "source": [
        "classroom_location = {\n",
        "    'A': 'Humanities Building, Room 204',\n",
        "    'B': 'Business Building, Room 318',\n",
        "    'C': 'Humanities Building, Room 113'\n",
        "}"
      ]
    },
    {
      "cell_type": "markdown",
      "id": "bb004e5f-cf06-4b23-a968-925b84fb69ff",
      "metadata": {
        "id": "bb004e5f-cf06-4b23-a968-925b84fb69ff"
      },
      "source": [
        " - Write a function called `sleepy_goat_ratio` that takes in a DataFrame as an argument, that returns a one-decimal percentage value of the proportion of students that slept at least eight hours and passed the exam out of the entire class. Consider a grade of 70 as passing."
      ]
    },
    {
      "cell_type": "code",
      "execution_count": null,
      "id": "cfedac01-3fcc-4444-9525-a36e05afecd1",
      "metadata": {
        "id": "cfedac01-3fcc-4444-9525-a36e05afecd1"
      },
      "outputs": [],
      "source": [
        "# write your function in this cell:\n"
      ]
    },
    {
      "cell_type": "code",
      "execution_count": null,
      "id": "df37a62e-68fc-4161-9dc3-0ce1276432d4",
      "metadata": {
        "id": "df37a62e-68fc-4161-9dc3-0ce1276432d4"
      },
      "outputs": [],
      "source": [
        "assert(sleepy_goat_ratio(student_df) == 40.0)"
      ]
    }
  ],
  "metadata": {
    "kernelspec": {
      "display_name": "Python 3",
      "language": "python",
      "name": "python3"
    },
    "language_info": {
      "codemirror_mode": {
        "name": "ipython",
        "version": 3
      },
      "file_extension": ".py",
      "mimetype": "text/x-python",
      "name": "python",
      "nbconvert_exporter": "python",
      "pygments_lexer": "ipython3",
      "version": "3.9.4"
    },
    "colab": {
      "name": "Python_Assessment_Review.ipynb",
      "provenance": [],
      "include_colab_link": true
    }
  },
  "nbformat": 4,
  "nbformat_minor": 5
}